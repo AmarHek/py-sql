{
 "cells": [
  {
   "cell_type": "code",
   "execution_count": 1,
   "metadata": {},
   "outputs": [],
   "source": [
    "read_file = \"./resources/test.csv\""
   ]
  },
  {
   "cell_type": "code",
   "execution_count": 11,
   "metadata": {},
   "outputs": [
    {
     "name": "stdout",
     "output_type": "stream",
     "text": [
      "['Vorname', 'Name', 'Kuerzel', 'Budget', 'Hausnummer']\n",
      "['Max', 'Mustermann', 'MM', '50000', '3c']\n",
      "['Angela', 'Berkel', 'AB', '100000', '5']\n",
      "['Horst', 'Flamer', 'HF', '30000', '20b']\n"
     ]
    }
   ],
   "source": [
    "with open(read_file, \"r\", encoding='utf-8') as f:\n",
    "    for line in f:\n",
    "        line = line.replace('\\ufeff', '')\n",
    "        line = line.replace('\\n', '')\n",
    "        line = line.split(\";\")\n",
    "        print(line)"
   ]
  },
  {
   "cell_type": "code",
   "execution_count": 7,
   "metadata": {},
   "outputs": [],
   "source": [
    "open?"
   ]
  },
  {
   "cell_type": "code",
   "execution_count": null,
   "metadata": {},
   "outputs": [],
   "source": []
  }
 ],
 "metadata": {
  "kernelspec": {
   "display_name": "Python 3",
   "language": "python",
   "name": "python3"
  },
  "language_info": {
   "codemirror_mode": {
    "name": "ipython",
    "version": 3
   },
   "file_extension": ".py",
   "mimetype": "text/x-python",
   "name": "python",
   "nbconvert_exporter": "python",
   "pygments_lexer": "ipython3",
   "version": "3.6.7"
  }
 },
 "nbformat": 4,
 "nbformat_minor": 2
}
