{
 "cells": [
  {
   "cell_type": "code",
   "execution_count": 4,
   "metadata": {},
   "outputs": [],
   "source": [
    "import table"
   ]
  },
  {
   "cell_type": "code",
   "execution_count": 5,
   "metadata": {},
   "outputs": [],
   "source": [
    "read_file = \"./resources/test.csv\""
   ]
  },
  {
   "cell_type": "code",
   "execution_count": 6,
   "metadata": {},
   "outputs": [],
   "source": [
    "test = table.Table(\"test\", read_file)"
   ]
  },
  {
   "cell_type": "code",
   "execution_count": 7,
   "metadata": {},
   "outputs": [
    {
     "name": "stdout",
     "output_type": "stream",
     "text": [
      "+--------------------------+--------+-----+---------+----------+\n",
      "|         Kuerzel          |  Raum  | Tag | Uhrzeit | Semester |\n",
      "+--------------------------+--------+-----+---------+----------+\n",
      "|  Di_10_12_Z6_HS4_SS_19   | Z6_HS4 |  Di |  10_12  |  SS_19   |\n",
      "|   Do_8_10_Z6_HS4_SS_19   | Z6_HS4 |  Do |   8_10  |  SS_19   |\n",
      "|  Di_10_12_Z6_HS4_SS_18   | Z6_HS4 |  Di |  10_12  |  SS_18   |\n",
      "|   Do_8_10_Z6_HS4_SS_18   | Z6_HS4 |  Do |   8_10  |  SS_18   |\n",
      "| Mi_14_16_Z6_HS1_WS_19_20 | Z6_HS1 |  Mi |  14_16  | WS_19_20 |\n",
      "| Mi_16_18_Z6_HS1_WS_19_20 | Z6_HS1 |  Mi |  16_18  | WS_19_20 |\n",
      "| Mi_14_16_Z6_HS1_WS_18_19 | Z6_HS1 |  Mi |  14_16  | WS_18_19 |\n",
      "| Mi_16_18_Z6_HS1_WS_18_19 | Z6_HS1 |  Mi |  16_18  | WS_18_19 |\n",
      "+--------------------------+--------+-----+---------+----------+\n"
     ]
    }
   ],
   "source": [
    "test.present()"
   ]
  },
  {
   "cell_type": "code",
   "execution_count": null,
   "metadata": {},
   "outputs": [],
   "source": []
  }
 ],
 "metadata": {
  "kernelspec": {
   "display_name": "Python 3",
   "language": "python",
   "name": "python3"
  },
  "language_info": {
   "codemirror_mode": {
    "name": "ipython",
    "version": 3
   },
   "file_extension": ".py",
   "mimetype": "text/x-python",
   "name": "python",
   "nbconvert_exporter": "python",
   "pygments_lexer": "ipython3",
   "version": "3.6.7"
  }
 },
 "nbformat": 4,
 "nbformat_minor": 2
}
