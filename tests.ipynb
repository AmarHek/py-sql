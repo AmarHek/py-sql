{
 "cells": [
  {
   "cell_type": "code",
   "execution_count": 1,
   "metadata": {},
   "outputs": [],
   "source": [
    "import table"
   ]
  },
  {
   "cell_type": "code",
   "execution_count": 2,
   "metadata": {},
   "outputs": [],
   "source": [
    "read_file = \"./resources/test.csv\""
   ]
  },
  {
   "cell_type": "code",
   "execution_count": 3,
   "metadata": {},
   "outputs": [],
   "source": [
    "test = table.Table(\"test\", read_file)"
   ]
  },
  {
   "cell_type": "code",
   "execution_count": 4,
   "metadata": {
    "scrolled": true
   },
   "outputs": [
    {
     "name": "stdout",
     "output_type": "stream",
     "text": [
      "+--------------------------+--------+-----+---------+----------+\n",
      "|         Kuerzel          |  Raum  | Tag | Uhrzeit | Semester |\n",
      "+--------------------------+--------+-----+---------+----------+\n",
      "|  Di_10_12_Z6_HS4_SS_19   | Z6_HS4 |  Di |  10_12  |  SS_19   |\n",
      "|   Do_8_10_Z6_HS4_SS_19   | Z6_HS4 |  Do |   8_10  |  SS_19   |\n",
      "|  Di_10_12_Z6_HS4_SS_18   | Z6_HS4 |  Di |  10_12  |  SS_18   |\n",
      "|   Do_8_10_Z6_HS4_SS_18   | Z6_HS4 |  Do |   8_10  |  SS_18   |\n",
      "| Mi_14_16_Z6_HS1_WS_19_20 | Z6_HS1 |  Mi |  14_16  | WS_19_20 |\n",
      "| Mi_16_18_Z6_HS1_WS_19_20 | Z6_HS1 |  Mi |  16_18  | WS_19_20 |\n",
      "| Mi_14_16_Z6_HS1_WS_18_19 | Z6_HS1 |  Mi |  14_16  | WS_18_19 |\n",
      "| Mi_16_18_Z6_HS1_WS_18_19 | Z6_HS1 |  Mi |  16_18  | WS_18_19 |\n",
      "+--------------------------+--------+-----+---------+----------+\n"
     ]
    }
   ],
   "source": [
    "test.present()"
   ]
  },
  {
   "cell_type": "code",
   "execution_count": 5,
   "metadata": {},
   "outputs": [],
   "source": [
    "select = ['test.Uhrzeit', '=', '10_12']"
   ]
  },
  {
   "cell_type": "code",
   "execution_count": 6,
   "metadata": {},
   "outputs": [
    {
     "name": "stdout",
     "output_type": "stream",
     "text": [
      "<built-in function eq>\n"
     ]
    }
   ],
   "source": [
    "test.select(select)"
   ]
  },
  {
   "cell_type": "code",
   "execution_count": 7,
   "metadata": {},
   "outputs": [
    {
     "name": "stdout",
     "output_type": "stream",
     "text": [
      "+-----------------------+--------+-----+---------+----------+\n",
      "|        Kuerzel        |  Raum  | Tag | Uhrzeit | Semester |\n",
      "+-----------------------+--------+-----+---------+----------+\n",
      "| Di_10_12_Z6_HS4_SS_19 | Z6_HS4 |  Di |  10_12  |  SS_19   |\n",
      "| Di_10_12_Z6_HS4_SS_18 | Z6_HS4 |  Di |  10_12  |  SS_18   |\n",
      "+-----------------------+--------+-----+---------+----------+\n"
     ]
    }
   ],
   "source": [
    "test.present()"
   ]
  },
  {
   "cell_type": "code",
   "execution_count": 8,
   "metadata": {},
   "outputs": [
    {
     "name": "stdout",
     "output_type": "stream",
     "text": [
      "+--------------------------+--------+-----+---------+----------+\n",
      "|         Kuerzel          |  Raum  | Tag | Uhrzeit | Semester |\n",
      "+--------------------------+--------+-----+---------+----------+\n",
      "|  Di_10_12_Z6_HS4_SS_19   | Z6_HS4 |  Di |  10_12  |  SS_19   |\n",
      "|  Di_10_12_Z6_HS4_SS_18   | Z6_HS4 |  Di |  10_12  |  SS_18   |\n",
      "| Mi_14_16_Z6_HS1_WS_19_20 | Z6_HS1 |  Mi |  14_16  | WS_19_20 |\n",
      "| Mi_14_16_Z6_HS1_WS_18_19 | Z6_HS1 |  Mi |  14_16  | WS_18_19 |\n",
      "+--------------------------+--------+-----+---------+----------+\n"
     ]
    }
   ],
   "source": [
    "def select(table, condition):\n",
    "    # TODO: Perhaps change to condition[0] is just field and name will be parsed in upper database class\n",
    "    name, field = condition[0].split('.')\n",
    "    op = convert_to_operator(condition[1])\n",
    "    data = table.data\n",
    "    print(op)\n",
    "    value = condition[2]\n",
    "    if name != self.name:\n",
    "        raise Warning('Table in select condition is different from this table')\n",
    "    elif not self.is_valid_field(field):\n",
    "        raise Warning('Table does not have specified field name')\n",
    "    else:\n",
    "        column = table.index(field)\n",
    "        for idx, row in enumerate(self.data):\n",
    "            if not op(row[column], value):\n",
    "                print(len(table.data))\n",
    "                del data[idx]\n",
    "        table.data = data"
   ]
  },
  {
   "cell_type": "code",
   "execution_count": 1,
   "metadata": {},
   "outputs": [],
   "source": [
    "import query as qu"
   ]
  },
  {
   "cell_type": "code",
   "execution_count": 2,
   "metadata": {},
   "outputs": [],
   "source": [
    "test_query = qu.Query()"
   ]
  },
  {
   "cell_type": "code",
   "execution_count": 3,
   "metadata": {},
   "outputs": [],
   "source": [
    "query = \"Select Raum.kurzel, Belegung.tag, Belegung.uhrzeit \" \\\n",
    "        \"From Belegung, Raum \" \\\n",
    "        \"Where Belegung.raum = Raum.kuerzel \" \\\n",
    "        \"And Raum.groesse > 100 \" \\\n",
    "        \"And Belegung.semester = SS19\""
   ]
  },
  {
   "cell_type": "code",
   "execution_count": 4,
   "metadata": {},
   "outputs": [],
   "source": [
    "test_query.parse(query)"
   ]
  },
  {
   "cell_type": "code",
   "execution_count": 5,
   "metadata": {},
   "outputs": [
    {
     "data": {
      "text/plain": [
       "['Raum.kurzel', 'Belegung.tag', 'Belegung.uhrzeit']"
      ]
     },
     "execution_count": 5,
     "metadata": {},
     "output_type": "execute_result"
    }
   ],
   "source": [
    "test_query.select"
   ]
  },
  {
   "cell_type": "code",
   "execution_count": 6,
   "metadata": {},
   "outputs": [
    {
     "data": {
      "text/plain": [
       "['Belegung', 'Raum']"
      ]
     },
     "execution_count": 6,
     "metadata": {},
     "output_type": "execute_result"
    }
   ],
   "source": [
    "test_query.from_"
   ]
  },
  {
   "cell_type": "code",
   "execution_count": 7,
   "metadata": {},
   "outputs": [
    {
     "data": {
      "text/plain": [
       "['Belegung.raum = Raum.kuerzel',\n",
       " 'Raum.groesse > 100',\n",
       " 'Belegung.semester = SS19']"
      ]
     },
     "execution_count": 7,
     "metadata": {},
     "output_type": "execute_result"
    }
   ],
   "source": [
    "test_query.where"
   ]
  },
  {
   "cell_type": "code",
   "execution_count": 8,
   "metadata": {},
   "outputs": [
    {
     "data": {
      "text/plain": [
       "[['Belegung', 'raum', 'Raum', 'kuerzel']]"
      ]
     },
     "execution_count": 8,
     "metadata": {},
     "output_type": "execute_result"
    }
   ],
   "source": [
    "test_query.where_join"
   ]
  },
  {
   "cell_type": "code",
   "execution_count": 9,
   "metadata": {},
   "outputs": [
    {
     "data": {
      "text/plain": [
       "[['Raum.groesse', <function _operator.gt>, 100.0],\n",
       " ['Belegung.semester', <function _operator.eq>, 'SS19']]"
      ]
     },
     "execution_count": 9,
     "metadata": {},
     "output_type": "execute_result"
    }
   ],
   "source": [
    "test_query.where_cond"
   ]
  },
  {
   "cell_type": "code",
   "execution_count": 10,
   "metadata": {},
   "outputs": [],
   "source": [
    "condition = 'Belegung.raum = Raum.kuerzel'"
   ]
  },
  {
   "cell_type": "code",
   "execution_count": 15,
   "metadata": {},
   "outputs": [],
   "source": [
    "join_list = test_query.where_join"
   ]
  },
  {
   "cell_type": "code",
   "execution_count": 18,
   "metadata": {},
   "outputs": [
    {
     "data": {
      "text/plain": [
       "'Belegung'"
      ]
     },
     "execution_count": 18,
     "metadata": {},
     "output_type": "execute_result"
    }
   ],
   "source": [
    "join_list[0][0]"
   ]
  },
  {
   "cell_type": "code",
   "execution_count": 47,
   "metadata": {},
   "outputs": [],
   "source": [
    "a = 't1.f1'\n",
    "b = 't2.f2'"
   ]
  },
  {
   "cell_type": "code",
   "execution_count": 50,
   "metadata": {},
   "outputs": [
    {
     "data": {
      "text/plain": [
       "['t1', 'f1', 't2', 'f2']"
      ]
     },
     "execution_count": 50,
     "metadata": {},
     "output_type": "execute_result"
    }
   ],
   "source": [
    "a.split('.') + b.split('.')"
   ]
  },
  {
   "cell_type": "code",
   "execution_count": 10,
   "metadata": {},
   "outputs": [],
   "source": [
    "test_op = '>'"
   ]
  },
  {
   "cell_type": "code",
   "execution_count": 12,
   "metadata": {},
   "outputs": [
    {
     "ename": "SyntaxError",
     "evalue": "invalid syntax (<ipython-input-12-6efbd7b551c2>, line 1)",
     "output_type": "error",
     "traceback": [
      "\u001b[1;36m  File \u001b[1;32m\"<ipython-input-12-6efbd7b551c2>\"\u001b[1;36m, line \u001b[1;32m1\u001b[0m\n\u001b[1;33m    2 eval(test_op) 3\u001b[0m\n\u001b[1;37m         ^\u001b[0m\n\u001b[1;31mSyntaxError\u001b[0m\u001b[1;31m:\u001b[0m invalid syntax\n"
     ]
    }
   ],
   "source": [
    "2 eval(test_op) 3"
   ]
  },
  {
   "cell_type": "code",
   "execution_count": null,
   "metadata": {},
   "outputs": [],
   "source": [
    "a = [['test', 'test', 'a', 'b', 20], ['']]"
   ]
  }
 ],
 "metadata": {
  "kernelspec": {
   "display_name": "Python 3",
   "language": "python",
   "name": "python3"
  },
  "language_info": {
   "codemirror_mode": {
    "name": "ipython",
    "version": 3
   },
   "file_extension": ".py",
   "mimetype": "text/x-python",
   "name": "python",
   "nbconvert_exporter": "python",
   "pygments_lexer": "ipython3",
   "version": "3.6.7"
  }
 },
 "nbformat": 4,
 "nbformat_minor": 2
}
