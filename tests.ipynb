{
 "cells": [
  {
   "cell_type": "code",
   "execution_count": 1,
   "metadata": {},
   "outputs": [],
   "source": [
    "import table"
   ]
  },
  {
   "cell_type": "code",
   "execution_count": 2,
   "metadata": {},
   "outputs": [],
   "source": [
    "belegung_file = \"./resources/belegung.csv\"\n",
    "raum_file = \"./resources/raum.csv\""
   ]
  },
  {
   "cell_type": "code",
   "execution_count": 3,
   "metadata": {},
   "outputs": [],
   "source": [
    "belegung = table.Table(\"Belegung\", belegung_file)\n",
    "raum = table.Table(\"Raum\", raum_file)"
   ]
  },
  {
   "cell_type": "code",
   "execution_count": 4,
   "metadata": {
    "scrolled": true
   },
   "outputs": [
    {
     "name": "stdout",
     "output_type": "stream",
     "text": [
      "+--------------------------+--------+-----+---------+----------+\n",
      "|         Kuerzel          |  Raum  | Tag | Uhrzeit | Semester |\n",
      "+--------------------------+--------+-----+---------+----------+\n",
      "|  Di_10_12_Z6_HS4_SS_19   | Z6_HS4 |  Di |  10_12  |  SS_19   |\n",
      "|   Do_8_10_Z6_HS4_SS_19   | Z6_HS4 |  Do |   8_10  |  SS_19   |\n",
      "|  Di_10_12_Z6_HS4_SS_18   | Z6_HS4 |  Di |  10_12  |  SS_18   |\n",
      "|   Do_8_10_Z6_HS4_SS_18   | Z6_HS4 |  Do |   8_10  |  SS_18   |\n",
      "| Mi_14_16_Z6_HS1_WS_19_20 | Z6_HS1 |  Mi |  14_16  | WS_19_20 |\n",
      "| Mi_16_18_Z6_HS1_WS_19_20 | Z6_HS1 |  Mi |  16_18  | WS_19_20 |\n",
      "| Mi_14_16_Z6_HS1_WS_18_19 | Z6_HS1 |  Mi |  14_16  | WS_18_19 |\n",
      "| Mi_16_18_Z6_HS1_WS_18_19 | Z6_HS1 |  Mi |  16_18  | WS_18_19 |\n",
      "+--------------------------+--------+-----+---------+----------+\n",
      "+---------+------+---------+\n",
      "| Kuerzel | Raum | Groesse |\n",
      "+---------+------+---------+\n",
      "|  Z6_HS4 |  Z6  |  600.0  |\n",
      "|  Z6_HS1 |  Z6  |  200.0  |\n",
      "+---------+------+---------+\n"
     ]
    }
   ],
   "source": [
    "belegung.present()\n",
    "raum.present()"
   ]
  },
  {
   "cell_type": "code",
   "execution_count": 5,
   "metadata": {},
   "outputs": [
    {
     "name": "stdout",
     "output_type": "stream",
     "text": [
      "Specified field name does not exist.\n"
     ]
    },
    {
     "ename": "TypeError",
     "evalue": "list indices must be integers or slices, not NoneType",
     "output_type": "error",
     "traceback": [
      "\u001b[1;31m---------------------------------------------------------------------------\u001b[0m",
      "\u001b[1;31mTypeError\u001b[0m                                 Traceback (most recent call last)",
      "\u001b[1;32m<ipython-input-5-617beee664c4>\u001b[0m in \u001b[0;36m<module>\u001b[1;34m\u001b[0m\n\u001b[1;32m----> 1\u001b[1;33m \u001b[0msuper_table\u001b[0m \u001b[1;33m=\u001b[0m \u001b[0mbelegung\u001b[0m\u001b[1;33m.\u001b[0m\u001b[0mjoin\u001b[0m\u001b[1;33m(\u001b[0m\u001b[1;34m'Raum'\u001b[0m\u001b[1;33m,\u001b[0m \u001b[0mraum\u001b[0m\u001b[1;33m,\u001b[0m \u001b[1;34m'Kurzel'\u001b[0m\u001b[1;33m)\u001b[0m\u001b[1;33m\u001b[0m\u001b[1;33m\u001b[0m\u001b[0m\n\u001b[0m",
      "\u001b[1;32m~\\Git\\sql_table_simple\\table.py\u001b[0m in \u001b[0;36mjoin\u001b[1;34m(self, self_field, second_table, second_field)\u001b[0m\n\u001b[0;32m    158\u001b[0m         \u001b[0msecond_field_as_column\u001b[0m \u001b[1;33m=\u001b[0m \u001b[1;33m[\u001b[0m\u001b[1;33m]\u001b[0m\u001b[1;33m\u001b[0m\u001b[1;33m\u001b[0m\u001b[0m\n\u001b[0;32m    159\u001b[0m         \u001b[1;32mfor\u001b[0m \u001b[0mrow\u001b[0m \u001b[1;32min\u001b[0m \u001b[0msecond_table\u001b[0m\u001b[1;33m.\u001b[0m\u001b[0mdata\u001b[0m\u001b[1;33m:\u001b[0m\u001b[1;33m\u001b[0m\u001b[1;33m\u001b[0m\u001b[0m\n\u001b[1;32m--> 160\u001b[1;33m             \u001b[0msecond_field_as_column\u001b[0m\u001b[1;33m.\u001b[0m\u001b[0mappend\u001b[0m\u001b[1;33m(\u001b[0m\u001b[0mrow\u001b[0m\u001b[1;33m[\u001b[0m\u001b[0mindex2\u001b[0m\u001b[1;33m]\u001b[0m\u001b[1;33m)\u001b[0m\u001b[1;33m\u001b[0m\u001b[1;33m\u001b[0m\u001b[0m\n\u001b[0m\u001b[0;32m    161\u001b[0m \u001b[1;33m\u001b[0m\u001b[0m\n\u001b[0;32m    162\u001b[0m         \u001b[1;31m# copy data from first table to temporary list\u001b[0m\u001b[1;33m\u001b[0m\u001b[1;33m\u001b[0m\u001b[1;33m\u001b[0m\u001b[0m\n",
      "\u001b[1;31mTypeError\u001b[0m: list indices must be integers or slices, not NoneType"
     ]
    }
   ],
   "source": [
    "super_table = belegung.join('Raum', raum, 'Kuerzel')"
   ]
  },
  {
   "cell_type": "code",
   "execution_count": 11,
   "metadata": {},
   "outputs": [
    {
     "name": "stdout",
     "output_type": "stream",
     "text": [
      "+--------------------------+--------+-----+---------+----------+----------+---------+\n",
      "|         Kuerzel          |  Raum  | Tag | Uhrzeit | Semester | Raum.Tag | Groesse |\n",
      "+--------------------------+--------+-----+---------+----------+----------+---------+\n",
      "|  Di_10_12_Z6_HS4_SS_19   | Z6_HS4 |  Di |  10_12  |  SS_19   |    Z6    |  600.0  |\n",
      "|   Do_8_10_Z6_HS4_SS_19   | Z6_HS4 |  Do |   8_10  |  SS_19   |    Z6    |  600.0  |\n",
      "|  Di_10_12_Z6_HS4_SS_18   | Z6_HS4 |  Di |  10_12  |  SS_18   |    Z6    |  600.0  |\n",
      "|   Do_8_10_Z6_HS4_SS_18   | Z6_HS4 |  Do |   8_10  |  SS_18   |    Z6    |  600.0  |\n",
      "| Mi_14_16_Z6_HS1_WS_19_20 | Z6_HS1 |  Mi |  14_16  | WS_19_20 |    Z6    |  200.0  |\n",
      "| Mi_16_18_Z6_HS1_WS_19_20 | Z6_HS1 |  Mi |  16_18  | WS_19_20 |    Z6    |  200.0  |\n",
      "| Mi_14_16_Z6_HS1_WS_18_19 | Z6_HS1 |  Mi |  14_16  | WS_18_19 |    Z6    |  200.0  |\n",
      "| Mi_16_18_Z6_HS1_WS_18_19 | Z6_HS1 |  Mi |  16_18  | WS_18_19 |    Z6    |  200.0  |\n",
      "+--------------------------+--------+-----+---------+----------+----------+---------+\n"
     ]
    }
   ],
   "source": [
    "super_table.present()"
   ]
  },
  {
   "cell_type": "code",
   "execution_count": 1,
   "metadata": {},
   "outputs": [],
   "source": [
    "import query as qu"
   ]
  },
  {
   "cell_type": "code",
   "execution_count": 2,
   "metadata": {},
   "outputs": [],
   "source": [
    "test_query = qu.Query()"
   ]
  },
  {
   "cell_type": "code",
   "execution_count": 3,
   "metadata": {},
   "outputs": [],
   "source": [
    "query = \"Select Raum.kurzel, Belegung.tag, Belegung.uhrzeit \" \\\n",
    "        \"From Belegung, Raum \" \\\n",
    "        \"Where Belegung.raum = Raum.kuerzel \" \\\n",
    "        \"And Raum.groesse > 100 \" \\\n",
    "        \"And Belegung.semester = SS19\""
   ]
  },
  {
   "cell_type": "code",
   "execution_count": 4,
   "metadata": {},
   "outputs": [],
   "source": [
    "test_query.parse(query)"
   ]
  },
  {
   "cell_type": "code",
   "execution_count": 5,
   "metadata": {},
   "outputs": [
    {
     "data": {
      "text/plain": [
       "['Raum.kurzel', 'Belegung.tag', 'Belegung.uhrzeit']"
      ]
     },
     "execution_count": 5,
     "metadata": {},
     "output_type": "execute_result"
    }
   ],
   "source": [
    "test_query.select"
   ]
  },
  {
   "cell_type": "code",
   "execution_count": 6,
   "metadata": {},
   "outputs": [
    {
     "data": {
      "text/plain": [
       "['Belegung', 'Raum']"
      ]
     },
     "execution_count": 6,
     "metadata": {},
     "output_type": "execute_result"
    }
   ],
   "source": [
    "test_query.from_"
   ]
  },
  {
   "cell_type": "code",
   "execution_count": 7,
   "metadata": {},
   "outputs": [
    {
     "data": {
      "text/plain": [
       "['Belegung.raum = Raum.kuerzel',\n",
       " 'Raum.groesse > 100',\n",
       " 'Belegung.semester = SS19']"
      ]
     },
     "execution_count": 7,
     "metadata": {},
     "output_type": "execute_result"
    }
   ],
   "source": [
    "test_query.where"
   ]
  },
  {
   "cell_type": "code",
   "execution_count": 8,
   "metadata": {},
   "outputs": [
    {
     "data": {
      "text/plain": [
       "[['Belegung', 'raum', 'Raum', 'kuerzel']]"
      ]
     },
     "execution_count": 8,
     "metadata": {},
     "output_type": "execute_result"
    }
   ],
   "source": [
    "test_query.where_join"
   ]
  },
  {
   "cell_type": "code",
   "execution_count": 9,
   "metadata": {},
   "outputs": [
    {
     "data": {
      "text/plain": [
       "[['Raum.groesse', <function _operator.gt>, 100.0],\n",
       " ['Belegung.semester', <function _operator.eq>, 'SS19']]"
      ]
     },
     "execution_count": 9,
     "metadata": {},
     "output_type": "execute_result"
    }
   ],
   "source": [
    "test_query.where_cond"
   ]
  },
  {
   "cell_type": "code",
   "execution_count": 10,
   "metadata": {},
   "outputs": [],
   "source": [
    "condition = 'Belegung.raum = Raum.kuerzel'"
   ]
  },
  {
   "cell_type": "code",
   "execution_count": 15,
   "metadata": {},
   "outputs": [],
   "source": [
    "join_list = test_query.where_join"
   ]
  },
  {
   "cell_type": "code",
   "execution_count": 18,
   "metadata": {},
   "outputs": [
    {
     "data": {
      "text/plain": [
       "'Belegung'"
      ]
     },
     "execution_count": 18,
     "metadata": {},
     "output_type": "execute_result"
    }
   ],
   "source": [
    "join_list[0][0]"
   ]
  },
  {
   "cell_type": "code",
   "execution_count": 47,
   "metadata": {},
   "outputs": [],
   "source": [
    "a = 't1.f1'\n",
    "b = 't2.f2'"
   ]
  },
  {
   "cell_type": "code",
   "execution_count": 50,
   "metadata": {},
   "outputs": [
    {
     "data": {
      "text/plain": [
       "['t1', 'f1', 't2', 'f2']"
      ]
     },
     "execution_count": 50,
     "metadata": {},
     "output_type": "execute_result"
    }
   ],
   "source": [
    "a.split('.') + b.split('.')"
   ]
  },
  {
   "cell_type": "code",
   "execution_count": 10,
   "metadata": {},
   "outputs": [],
   "source": [
    "test_op = '>'"
   ]
  },
  {
   "cell_type": "code",
   "execution_count": 12,
   "metadata": {},
   "outputs": [
    {
     "ename": "SyntaxError",
     "evalue": "invalid syntax (<ipython-input-12-6efbd7b551c2>, line 1)",
     "output_type": "error",
     "traceback": [
      "\u001b[1;36m  File \u001b[1;32m\"<ipython-input-12-6efbd7b551c2>\"\u001b[1;36m, line \u001b[1;32m1\u001b[0m\n\u001b[1;33m    2 eval(test_op) 3\u001b[0m\n\u001b[1;37m         ^\u001b[0m\n\u001b[1;31mSyntaxError\u001b[0m\u001b[1;31m:\u001b[0m invalid syntax\n"
     ]
    }
   ],
   "source": [
    "2 eval(test_op) 3"
   ]
  },
  {
   "cell_type": "code",
   "execution_count": null,
   "metadata": {},
   "outputs": [],
   "source": [
    "a = [['test', 'test', 'a', 'b', 20], ['']]"
   ]
  },
  {
   "cell_type": "code",
   "execution_count": 10,
   "metadata": {},
   "outputs": [
    {
     "data": {
      "text/plain": [
       "['Oiml']"
      ]
     },
     "execution_count": 10,
     "metadata": {},
     "output_type": "execute_result"
    }
   ],
   "source": [
    "name.split(', ')"
   ]
  },
  {
   "cell_type": "code",
   "execution_count": 11,
   "metadata": {},
   "outputs": [],
   "source": [
    "import database"
   ]
  },
  {
   "cell_type": "code",
   "execution_count": 12,
   "metadata": {},
   "outputs": [],
   "source": [
    "db = database.Database()"
   ]
  },
  {
   "cell_type": "code",
   "execution_count": 14,
   "metadata": {},
   "outputs": [],
   "source": [
    "db.add_table('Belegung', 'resources/belegung.csv')"
   ]
  },
  {
   "cell_type": "code",
   "execution_count": 25,
   "metadata": {},
   "outputs": [],
   "source": [
    "db.add_table('Raum', 'resources/raum.csv')"
   ]
  },
  {
   "cell_type": "code",
   "execution_count": 26,
   "metadata": {},
   "outputs": [
    {
     "data": {
      "text/plain": [
       "['Belegung', 'Raum']"
      ]
     },
     "execution_count": 26,
     "metadata": {},
     "output_type": "execute_result"
    }
   ],
   "source": [
    "a = list(db.tables.keys())\n",
    "a"
   ]
  },
  {
   "cell_type": "code",
   "execution_count": 27,
   "metadata": {},
   "outputs": [
    {
     "data": {
      "text/plain": [
       "False"
      ]
     },
     "execution_count": 27,
     "metadata": {},
     "output_type": "execute_result"
    }
   ],
   "source": [
    "not a"
   ]
  },
  {
   "cell_type": "code",
   "execution_count": 33,
   "metadata": {},
   "outputs": [],
   "source": [
    "a = 'FROM from WHERE where AND and'"
   ]
  },
  {
   "cell_type": "code",
   "execution_count": 34,
   "metadata": {},
   "outputs": [
    {
     "data": {
      "text/plain": [
       "'FROM from WHERE where AND and'"
      ]
     },
     "execution_count": 34,
     "metadata": {},
     "output_type": "execute_result"
    }
   ],
   "source": [
    "a.replace('SELECT', 'Select').replace('select', 'Select')"
   ]
  },
  {
   "cell_type": "code",
   "execution_count": 2,
   "metadata": {},
   "outputs": [],
   "source": [
    "import os"
   ]
  },
  {
   "cell_type": "code",
   "execution_count": 3,
   "metadata": {},
   "outputs": [
    {
     "data": {
      "text/plain": [
       "False"
      ]
     },
     "execution_count": 3,
     "metadata": {},
     "output_type": "execute_result"
    }
   ],
   "source": [
    "os.path.isfile('resources')"
   ]
  },
  {
   "cell_type": "code",
   "execution_count": 4,
   "metadata": {},
   "outputs": [
    {
     "name": "stdout",
     "output_type": "stream",
     "text": [
      "File not found\n"
     ]
    }
   ],
   "source": [
    "test = table.Table('test', 'resources')"
   ]
  },
  {
   "cell_type": "code",
   "execution_count": 8,
   "metadata": {},
   "outputs": [
    {
     "data": {
      "text/plain": [
       "True"
      ]
     },
     "execution_count": 8,
     "metadata": {},
     "output_type": "execute_result"
    }
   ],
   "source": [
    "not test.data"
   ]
  },
  {
   "cell_type": "code",
   "execution_count": null,
   "metadata": {},
   "outputs": [],
   "source": []
  }
 ],
 "metadata": {
  "kernelspec": {
   "display_name": "Python 3",
   "language": "python",
   "name": "python3"
  },
  "language_info": {
   "codemirror_mode": {
    "name": "ipython",
    "version": 3
   },
   "file_extension": ".py",
   "mimetype": "text/x-python",
   "name": "python",
   "nbconvert_exporter": "python",
   "pygments_lexer": "ipython3",
   "version": "3.6.7"
  }
 },
 "nbformat": 4,
 "nbformat_minor": 2
}
